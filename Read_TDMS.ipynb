{
  "nbformat": 4,
  "nbformat_minor": 0,
  "metadata": {
    "colab": {
      "name": "Read_TDMS.ipynb",
      "provenance": [],
      "include_colab_link": true
    },
    "kernelspec": {
      "display_name": "Python 3",
      "language": "python",
      "name": "python3"
    },
    "language_info": {
      "codemirror_mode": {
        "name": "ipython",
        "version": 3
      },
      "file_extension": ".py",
      "mimetype": "text/x-python",
      "name": "python",
      "nbconvert_exporter": "python",
      "pygments_lexer": "ipython3",
      "version": "3.7.0"
    }
  },
  "cells": [
    {
      "cell_type": "markdown",
      "metadata": {
        "id": "view-in-github",
        "colab_type": "text"
      },
      "source": [
        "<a href=\"https://colab.research.google.com/github/rddaz2013/1m3_newTDMS/blob/main/Read_TDMS.ipynb\" target=\"_parent\"><img src=\"https://colab.research.google.com/assets/colab-badge.svg\" alt=\"Open In Colab\"/></a>"
      ]
    },
    {
      "cell_type": "code",
      "metadata": {
        "colab": {
          "base_uri": "https://localhost:8080/",
          "height": 340
        },
        "id": "__mmrdg01aV9",
        "outputId": "9c8c7c68-3017-4fa2-8ca9-faec9425842f"
      },
      "source": [
        "!pip install npTDMS==1.2 --force-reinstall"
      ],
      "execution_count": 1,
      "outputs": [
        {
          "output_type": "stream",
          "text": [
            "Processing /root/.cache/pip/wheels/57/6c/c7/77f414d5c81491af25cf56d2511651b63f87f36300f74c44f0/npTDMS-1.2.0-py2.py3-none-any.whl\n",
            "Collecting numpy\n",
            "  Using cached https://files.pythonhosted.org/packages/a5/42/560d269f604d3e186a57c21a363e77e199358d054884e61b73e405dd217c/numpy-1.20.3-cp37-cp37m-manylinux_2_12_x86_64.manylinux2010_x86_64.whl\n",
            "\u001b[31mERROR: tensorflow 2.4.1 has requirement numpy~=1.19.2, but you'll have numpy 1.20.3 which is incompatible.\u001b[0m\n",
            "\u001b[31mERROR: datascience 0.10.6 has requirement folium==0.2.1, but you'll have folium 0.8.3 which is incompatible.\u001b[0m\n",
            "\u001b[31mERROR: albumentations 0.1.12 has requirement imgaug<0.2.7,>=0.2.5, but you'll have imgaug 0.2.9 which is incompatible.\u001b[0m\n",
            "Installing collected packages: numpy, npTDMS\n",
            "  Found existing installation: numpy 1.20.3\n",
            "    Uninstalling numpy-1.20.3:\n",
            "      Successfully uninstalled numpy-1.20.3\n",
            "  Found existing installation: npTDMS 1.2.0\n",
            "    Uninstalling npTDMS-1.2.0:\n",
            "      Successfully uninstalled npTDMS-1.2.0\n",
            "Successfully installed npTDMS-1.2.0 numpy-1.20.3\n"
          ],
          "name": "stdout"
        },
        {
          "output_type": "display_data",
          "data": {
            "application/vnd.colab-display-data+json": {
              "pip_warning": {
                "packages": [
                  "numpy"
                ]
              }
            }
          },
          "metadata": {
            "tags": []
          }
        }
      ]
    },
    {
      "cell_type": "code",
      "metadata": {
        "colab": {
          "base_uri": "https://localhost:8080/",
          "height": 35
        },
        "id": "Z9RqpXxjuu9-",
        "outputId": "1b479578-76a7-48c4-acf9-64f606f24451"
      },
      "source": [
        "import nptdms as tts\n",
        "tts.__version__"
      ],
      "execution_count": 2,
      "outputs": [
        {
          "output_type": "execute_result",
          "data": {
            "application/vnd.google.colaboratory.intrinsic+json": {
              "type": "string"
            },
            "text/plain": [
              "'1.2.0'"
            ]
          },
          "metadata": {
            "tags": []
          },
          "execution_count": 2
        }
      ]
    },
    {
      "cell_type": "code",
      "metadata": {
        "id": "zhxt8oHN0taE"
      },
      "source": [
        "import numpy as np\n",
        "import matplotlib.mlab as mlab\n",
        "import matplotlib.pyplot as plt\n",
        "from scipy import signal\n",
        "from matplotlib.dates import DateFormatter\n",
        "import seaborn as sns\n",
        "sns.set_style('white')\n",
        "sns.set_style('ticks')\n",
        "sns.set_context('notebook', font_scale=1.3, rc={'lines.linewidth': 3.0})\n",
        "import numpy as np\n",
        "\n",
        "plt.rcParams['figure.figsize'] = (10,10/1.6)\n",
        "\n",
        "# Einlesen der tdms Datei\n",
        "# Wichtig wegen der Speicherung der Gruppen und der Zeitachse kann es nicht direkt als Dataframe in\n",
        "# pandas geladen werden\n",
        "from nptdms import TdmsFile\n",
        "tdms_file = TdmsFile(\"Test.tdms\")"
      ],
      "execution_count": 3,
      "outputs": []
    },
    {
      "cell_type": "code",
      "metadata": {
        "colab": {
          "base_uri": "https://localhost:8080/"
        },
        "id": "eZvUrVhsXAKf",
        "outputId": "bbb4f5c8-5b85-477a-a2ae-b6c98aefd6be"
      },
      "source": [
        "print (tdms_file)"
      ],
      "execution_count": 4,
      "outputs": [
        {
          "output_type": "stream",
          "text": [
            "<nptdms.tdms.TdmsFile object at 0x7fc3b2edd3d0>\n"
          ],
          "name": "stdout"
        }
      ]
    },
    {
      "cell_type": "code",
      "metadata": {
        "colab": {
          "base_uri": "https://localhost:8080/"
        },
        "id": "2vwqGmA0XAKl",
        "outputId": "d99239a2-a4f8-467f-f89f-5881f561bd98"
      },
      "source": [
        "gf1 = (tdms_file.groups()[0])\n",
        "for dummy in tdms_file[gf1.name].channels():\n",
        "    print (dummy)"
      ],
      "execution_count": 5,
      "outputs": [
        {
          "output_type": "stream",
          "text": [
            "<TdmsChannel with path /'Sensoren'/'Ai 0 = Keller 1'>\n",
            "<TdmsChannel with path /'Sensoren'/'Ai 0 = Keller 2'>\n",
            "<TdmsChannel with path /'Sensoren'/'Ai 2 = Keller 3'>\n",
            "<TdmsChannel with path /'Sensoren'/'Ai 3 = Keller 4'>\n",
            "<TdmsChannel with path /'Sensoren'/'Ai 4 = IR 1'>\n",
            "<TdmsChannel with path /'Sensoren'/'Ai 5 = IR 2'>\n"
          ],
          "name": "stdout"
        }
      ]
    },
    {
      "cell_type": "code",
      "metadata": {
        "id": "6d-ty7yZXAKp"
      },
      "source": [
        "all_groups=tdms_file[gf1.name].channels()\n",
        "channel = all_groups[0]\n",
        "timestamp = channel.properties['wf_start_time']\n",
        "timestep = channel.properties['wf_increment']\n",
        "\n",
        "time_array = np.arange(start=0, stop=np.size(channel))\n",
        "time_array=time_array*timestep\n",
        "channel_data = channel.data"
      ],
      "execution_count": 6,
      "outputs": []
    },
    {
      "cell_type": "code",
      "metadata": {
        "colab": {
          "base_uri": "https://localhost:8080/"
        },
        "id": "ZXL9iFeCXAKr",
        "outputId": "8439a6b2-5954-467f-be9a-00e7d17956b5"
      },
      "source": [
        "zeit=all_groups[0].data \n",
        "AIN0= all_groups[0].data\n",
        "AIN1= all_groups[1].data\n",
        "AIN2= all_groups[2].data\n",
        "\n",
        "print (np.size(all_groups[0]))"
      ],
      "execution_count": 7,
      "outputs": [
        {
          "output_type": "stream",
          "text": [
            "53400\n"
          ],
          "name": "stdout"
        }
      ]
    },
    {
      "cell_type": "code",
      "metadata": {
        "colab": {
          "base_uri": "https://localhost:8080/",
          "height": 563
        },
        "id": "nzHCmjMHXAKw",
        "outputId": "105023a0-4b9f-46ef-bb9d-575fb064c24d"
      },
      "source": [
        "from scipy import signal\n",
        "\n",
        "# Positionierung\n",
        "pt=slice(1,3000) # Zeitskala ist * 0.1s\n",
        "plt.figure(figsize=(16,9))\n",
        "plt.plot(time_array,AIN0,label='Sensor 1')\n",
        "plt.plot(time_array,AIN1,label='Sensor 2')\n",
        "plt.plot(time_array,AIN2,label='Sensor 3')\n",
        "plt.xlabel('time [s]')\n",
        "plt.ylabel('Druck')\n",
        "plt.legend()\n",
        "plt.show()"
      ],
      "execution_count": 8,
      "outputs": [
        {
          "output_type": "display_data",
          "data": {
            "image/png": "[encoded data removed]",
            "text/plain": [
              "<Figure size 1152x648 with 1 Axes>"
            ]
          },
          "metadata": {
            "tags": []
          }
        }
      ]
    }
  ]
}